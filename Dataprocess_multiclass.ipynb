{
 "cells": [
  {
   "cell_type": "code",
   "execution_count": 1,
   "metadata": {},
   "outputs": [],
   "source": [
    "import pandas as pd"
   ]
  },
  {
   "cell_type": "code",
   "execution_count": 2,
   "metadata": {},
   "outputs": [
    {
     "name": "stdout",
     "output_type": "stream",
     "text": [
      "/run/media/jeevan/Anime Drive/nlp-fall-2019-project-reddit_upvote-predictor\n"
     ]
    }
   ],
   "source": [
    "cd .."
   ]
  },
  {
   "cell_type": "code",
   "execution_count": 3,
   "metadata": {},
   "outputs": [
    {
     "data": {
      "text/html": [
       "<div>\n",
       "<style scoped>\n",
       "    .dataframe tbody tr th:only-of-type {\n",
       "        vertical-align: middle;\n",
       "    }\n",
       "\n",
       "    .dataframe tbody tr th {\n",
       "        vertical-align: top;\n",
       "    }\n",
       "\n",
       "    .dataframe thead th {\n",
       "        text-align: right;\n",
       "    }\n",
       "</style>\n",
       "<table border=\"1\" class=\"dataframe\">\n",
       "  <thead>\n",
       "    <tr style=\"text-align: right;\">\n",
       "      <th></th>\n",
       "      <th>comment_body</th>\n",
       "      <th>upvotes</th>\n",
       "    </tr>\n",
       "  </thead>\n",
       "  <tbody>\n",
       "    <tr>\n",
       "      <th>0</th>\n",
       "      <td>Imagine how beautiful this is in colors.</td>\n",
       "      <td>158</td>\n",
       "    </tr>\n",
       "    <tr>\n",
       "      <th>1</th>\n",
       "      <td>Them cape points are on point!</td>\n",
       "      <td>57</td>\n",
       "    </tr>\n",
       "    <tr>\n",
       "      <th>2</th>\n",
       "      <td>Now there’s a Batman</td>\n",
       "      <td>46</td>\n",
       "    </tr>\n",
       "    <tr>\n",
       "      <th>3</th>\n",
       "      <td>Say whatever you want, Snyder knows how to fil...</td>\n",
       "      <td>104</td>\n",
       "    </tr>\n",
       "    <tr>\n",
       "      <th>4</th>\n",
       "      <td>God that man has a gift for shooting some amaz...</td>\n",
       "      <td>47</td>\n",
       "    </tr>\n",
       "    <tr>\n",
       "      <th>...</th>\n",
       "      <td>...</td>\n",
       "      <td>...</td>\n",
       "    </tr>\n",
       "    <tr>\n",
       "      <th>161305</th>\n",
       "      <td>I’m still waiting for the 3rd act or so where ...</td>\n",
       "      <td>1</td>\n",
       "    </tr>\n",
       "    <tr>\n",
       "      <th>161306</th>\n",
       "      <td>It's like 2 steps forward (aquaman, shazam!) 3...</td>\n",
       "      <td>1</td>\n",
       "    </tr>\n",
       "    <tr>\n",
       "      <th>161307</th>\n",
       "      <td>Either would be fine, but Cassie's Batgirl cos...</td>\n",
       "      <td>1</td>\n",
       "    </tr>\n",
       "    <tr>\n",
       "      <th>161308</th>\n",
       "      <td>Huntress appears to be wearing the same mask i...</td>\n",
       "      <td>3</td>\n",
       "    </tr>\n",
       "    <tr>\n",
       "      <th>161309</th>\n",
       "      <td>100% agree, but I kinda don’t see them making ...</td>\n",
       "      <td>1</td>\n",
       "    </tr>\n",
       "  </tbody>\n",
       "</table>\n",
       "<p>161310 rows × 2 columns</p>\n",
       "</div>"
      ],
      "text/plain": [
       "                                             comment_body upvotes\n",
       "0                Imagine how beautiful this is in colors.     158\n",
       "1                          Them cape points are on point!      57\n",
       "2                                    Now there’s a Batman      46\n",
       "3       Say whatever you want, Snyder knows how to fil...     104\n",
       "4       God that man has a gift for shooting some amaz...      47\n",
       "...                                                   ...     ...\n",
       "161305  I’m still waiting for the 3rd act or so where ...       1\n",
       "161306  It's like 2 steps forward (aquaman, shazam!) 3...       1\n",
       "161307  Either would be fine, but Cassie's Batgirl cos...       1\n",
       "161308  Huntress appears to be wearing the same mask i...       3\n",
       "161309  100% agree, but I kinda don’t see them making ...       1\n",
       "\n",
       "[161310 rows x 2 columns]"
      ]
     },
     "execution_count": 3,
     "metadata": {},
     "output_type": "execute_result"
    }
   ],
   "source": [
    "newdata = pd.read_csv('data/data.csv')\n",
    "newdata"
   ]
  },
  {
   "cell_type": "markdown",
   "metadata": {},
   "source": [
    "Some of the tweets were not saved in the right format (text was divided/only fetched some of the text). Hence we remove these rows from the data."
   ]
  },
  {
   "cell_type": "code",
   "execution_count": 4,
   "metadata": {},
   "outputs": [
    {
     "data": {
      "text/html": [
       "<div>\n",
       "<style scoped>\n",
       "    .dataframe tbody tr th:only-of-type {\n",
       "        vertical-align: middle;\n",
       "    }\n",
       "\n",
       "    .dataframe tbody tr th {\n",
       "        vertical-align: top;\n",
       "    }\n",
       "\n",
       "    .dataframe thead th {\n",
       "        text-align: right;\n",
       "    }\n",
       "</style>\n",
       "<table border=\"1\" class=\"dataframe\">\n",
       "  <thead>\n",
       "    <tr style=\"text-align: right;\">\n",
       "      <th></th>\n",
       "      <th>comment_body</th>\n",
       "      <th>upvotes</th>\n",
       "    </tr>\n",
       "  </thead>\n",
       "  <tbody>\n",
       "    <tr>\n",
       "      <th>0</th>\n",
       "      <td>Imagine how beautiful this is in colors.</td>\n",
       "      <td>158.0</td>\n",
       "    </tr>\n",
       "    <tr>\n",
       "      <th>1</th>\n",
       "      <td>Them cape points are on point!</td>\n",
       "      <td>57.0</td>\n",
       "    </tr>\n",
       "    <tr>\n",
       "      <th>2</th>\n",
       "      <td>Now there’s a Batman</td>\n",
       "      <td>46.0</td>\n",
       "    </tr>\n",
       "    <tr>\n",
       "      <th>3</th>\n",
       "      <td>Say whatever you want, Snyder knows how to fil...</td>\n",
       "      <td>104.0</td>\n",
       "    </tr>\n",
       "    <tr>\n",
       "      <th>4</th>\n",
       "      <td>God that man has a gift for shooting some amaz...</td>\n",
       "      <td>47.0</td>\n",
       "    </tr>\n",
       "    <tr>\n",
       "      <th>...</th>\n",
       "      <td>...</td>\n",
       "      <td>...</td>\n",
       "    </tr>\n",
       "    <tr>\n",
       "      <th>161305</th>\n",
       "      <td>I’m still waiting for the 3rd act or so where ...</td>\n",
       "      <td>1.0</td>\n",
       "    </tr>\n",
       "    <tr>\n",
       "      <th>161306</th>\n",
       "      <td>It's like 2 steps forward (aquaman, shazam!) 3...</td>\n",
       "      <td>1.0</td>\n",
       "    </tr>\n",
       "    <tr>\n",
       "      <th>161307</th>\n",
       "      <td>Either would be fine, but Cassie's Batgirl cos...</td>\n",
       "      <td>1.0</td>\n",
       "    </tr>\n",
       "    <tr>\n",
       "      <th>161308</th>\n",
       "      <td>Huntress appears to be wearing the same mask i...</td>\n",
       "      <td>3.0</td>\n",
       "    </tr>\n",
       "    <tr>\n",
       "      <th>161309</th>\n",
       "      <td>100% agree, but I kinda don’t see them making ...</td>\n",
       "      <td>1.0</td>\n",
       "    </tr>\n",
       "  </tbody>\n",
       "</table>\n",
       "<p>161066 rows × 2 columns</p>\n",
       "</div>"
      ],
      "text/plain": [
       "                                             comment_body  upvotes\n",
       "0                Imagine how beautiful this is in colors.    158.0\n",
       "1                          Them cape points are on point!     57.0\n",
       "2                                    Now there’s a Batman     46.0\n",
       "3       Say whatever you want, Snyder knows how to fil...    104.0\n",
       "4       God that man has a gift for shooting some amaz...     47.0\n",
       "...                                                   ...      ...\n",
       "161305  I’m still waiting for the 3rd act or so where ...      1.0\n",
       "161306  It's like 2 steps forward (aquaman, shazam!) 3...      1.0\n",
       "161307  Either would be fine, but Cassie's Batgirl cos...      1.0\n",
       "161308  Huntress appears to be wearing the same mask i...      3.0\n",
       "161309  100% agree, but I kinda don’t see them making ...      1.0\n",
       "\n",
       "[161066 rows x 2 columns]"
      ]
     },
     "execution_count": 4,
     "metadata": {},
     "output_type": "execute_result"
    }
   ],
   "source": [
    "newdata['upvotes'] = pd.to_numeric(newdata['upvotes'], errors='coerce')\n",
    "newdata.dropna()"
   ]
  },
  {
   "cell_type": "code",
   "execution_count": 5,
   "metadata": {},
   "outputs": [
    {
     "data": {
      "text/html": [
       "<div>\n",
       "<style scoped>\n",
       "    .dataframe tbody tr th:only-of-type {\n",
       "        vertical-align: middle;\n",
       "    }\n",
       "\n",
       "    .dataframe tbody tr th {\n",
       "        vertical-align: top;\n",
       "    }\n",
       "\n",
       "    .dataframe thead th {\n",
       "        text-align: right;\n",
       "    }\n",
       "</style>\n",
       "<table border=\"1\" class=\"dataframe\">\n",
       "  <thead>\n",
       "    <tr style=\"text-align: right;\">\n",
       "      <th></th>\n",
       "      <th>upvotes</th>\n",
       "    </tr>\n",
       "  </thead>\n",
       "  <tbody>\n",
       "    <tr>\n",
       "      <th>count</th>\n",
       "      <td>161067.000000</td>\n",
       "    </tr>\n",
       "    <tr>\n",
       "      <th>mean</th>\n",
       "      <td>13.281088</td>\n",
       "    </tr>\n",
       "    <tr>\n",
       "      <th>std</th>\n",
       "      <td>46.051583</td>\n",
       "    </tr>\n",
       "    <tr>\n",
       "      <th>min</th>\n",
       "      <td>-240.000000</td>\n",
       "    </tr>\n",
       "    <tr>\n",
       "      <th>25%</th>\n",
       "      <td>1.000000</td>\n",
       "    </tr>\n",
       "    <tr>\n",
       "      <th>50%</th>\n",
       "      <td>3.000000</td>\n",
       "    </tr>\n",
       "    <tr>\n",
       "      <th>75%</th>\n",
       "      <td>9.000000</td>\n",
       "    </tr>\n",
       "    <tr>\n",
       "      <th>max</th>\n",
       "      <td>2079.000000</td>\n",
       "    </tr>\n",
       "  </tbody>\n",
       "</table>\n",
       "</div>"
      ],
      "text/plain": [
       "             upvotes\n",
       "count  161067.000000\n",
       "mean       13.281088\n",
       "std        46.051583\n",
       "min      -240.000000\n",
       "25%         1.000000\n",
       "50%         3.000000\n",
       "75%         9.000000\n",
       "max      2079.000000"
      ]
     },
     "execution_count": 5,
     "metadata": {},
     "output_type": "execute_result"
    }
   ],
   "source": [
    "newdata.describe()"
   ]
  },
  {
   "cell_type": "code",
   "execution_count": 6,
   "metadata": {},
   "outputs": [
    {
     "name": "stderr",
     "output_type": "stream",
     "text": [
      "<ipython-input-6-2a095d2b9043>:5: SettingWithCopyWarning: \n",
      "A value is trying to be set on a copy of a slice from a DataFrame.\n",
      "Try using .loc[row_indexer,col_indexer] = value instead\n",
      "\n",
      "See the caveats in the documentation: http://pandas.pydata.org/pandas-docs/stable/user_guide/indexing.html#returning-a-view-versus-a-copy\n",
      "  newdata['length'] = [len(x) for x in newdata['comment_body']]\n"
     ]
    }
   ],
   "source": [
    "#newdata = newdata[0:10000]\n",
    "newdata.loc[:, 'comment_body'] = newdata['comment_body'].str.replace('([\\“”¨«»®´·º½¾¿¡§£₤‘’\\n\\r>])', '').str.replace('\\[\\S+\\]', '').str.replace('\\(\\S+\\)', '').str.replace('[http]{4}\\S+', '')\n",
    "#newdata['comment_body'] = [data.replace(';', ':') for data in newdata['comment_body']]\n",
    "newdata = newdata.dropna()\n",
    "newdata['length'] = [len(x) for x in newdata['comment_body']]\n",
    "newdata = newdata[newdata.length <= 512]\n",
    "ids = [i for i in range(len(newdata))]\n",
    "ups = list(newdata[\"upvotes\"])"
   ]
  },
  {
   "cell_type": "code",
   "execution_count": 7,
   "metadata": {},
   "outputs": [
    {
     "data": {
      "text/html": [
       "<div>\n",
       "<style scoped>\n",
       "    .dataframe tbody tr th:only-of-type {\n",
       "        vertical-align: middle;\n",
       "    }\n",
       "\n",
       "    .dataframe tbody tr th {\n",
       "        vertical-align: top;\n",
       "    }\n",
       "\n",
       "    .dataframe thead th {\n",
       "        text-align: right;\n",
       "    }\n",
       "</style>\n",
       "<table border=\"1\" class=\"dataframe\">\n",
       "  <thead>\n",
       "    <tr style=\"text-align: right;\">\n",
       "      <th></th>\n",
       "      <th>upvotes</th>\n",
       "      <th>length</th>\n",
       "    </tr>\n",
       "  </thead>\n",
       "  <tbody>\n",
       "    <tr>\n",
       "      <th>count</th>\n",
       "      <td>153581.000000</td>\n",
       "      <td>153581.000000</td>\n",
       "    </tr>\n",
       "    <tr>\n",
       "      <th>mean</th>\n",
       "      <td>13.516978</td>\n",
       "      <td>112.127906</td>\n",
       "    </tr>\n",
       "    <tr>\n",
       "      <th>std</th>\n",
       "      <td>46.653778</td>\n",
       "      <td>102.862073</td>\n",
       "    </tr>\n",
       "    <tr>\n",
       "      <th>min</th>\n",
       "      <td>-240.000000</td>\n",
       "      <td>0.000000</td>\n",
       "    </tr>\n",
       "    <tr>\n",
       "      <th>25%</th>\n",
       "      <td>1.000000</td>\n",
       "      <td>38.000000</td>\n",
       "    </tr>\n",
       "    <tr>\n",
       "      <th>50%</th>\n",
       "      <td>3.000000</td>\n",
       "      <td>77.000000</td>\n",
       "    </tr>\n",
       "    <tr>\n",
       "      <th>75%</th>\n",
       "      <td>9.000000</td>\n",
       "      <td>152.000000</td>\n",
       "    </tr>\n",
       "    <tr>\n",
       "      <th>max</th>\n",
       "      <td>2079.000000</td>\n",
       "      <td>512.000000</td>\n",
       "    </tr>\n",
       "  </tbody>\n",
       "</table>\n",
       "</div>"
      ],
      "text/plain": [
       "             upvotes         length\n",
       "count  153581.000000  153581.000000\n",
       "mean       13.516978     112.127906\n",
       "std        46.653778     102.862073\n",
       "min      -240.000000       0.000000\n",
       "25%         1.000000      38.000000\n",
       "50%         3.000000      77.000000\n",
       "75%         9.000000     152.000000\n",
       "max      2079.000000     512.000000"
      ]
     },
     "execution_count": 7,
     "metadata": {},
     "output_type": "execute_result"
    }
   ],
   "source": [
    "newdata.describe()"
   ]
  },
  {
   "cell_type": "markdown",
   "metadata": {},
   "source": [
    "Based on the summary statistics, we define four categories for upvotes, where x is the upvote count:\n",
    "\n",
    "x < 0 : Poor (label: 0)\n",
    "\n",
    "x >= 1 and x <= 3: Normal (label: 1)\n",
    "\n",
    "x >= 4 and x <=9: Good (label: 2)\n",
    "\n",
    "x >= 10: Best (label: 3)\n",
    "\n",
    "Also notice that the statistics didn't change by much, even though we removed all comments with length more than 512 (~8k comments)"
   ]
  },
  {
   "cell_type": "raw",
   "metadata": {},
   "source": [
    "# val = [0]*len(newdata)\n",
    "for i in range(len(newdata)):\n",
    "    x = ups[i]\n",
    "    if x < 0:\n",
    "        val[i] = 0\n",
    "    elif (x>=1 and x<=3):\n",
    "        val[i] = 1\n",
    "    elif (x>=4 and x<=9):\n",
    "        val[i] = 2\n",
    "    elif (x>=10):\n",
    "        val[i] = 3\n",
    "newdata[\"label\"] = val\n",
    "cols = [\"label\", \"text\"]\n",
    "newdata[\"text\"] = newdata[\"comment_body\"]\n",
    "newdata = newdata[cols]\n",
    "newdata\n",
    "#newdata.to_csv(\"data/all-labeled.csv\", index=False)"
   ]
  },
  {
   "cell_type": "code",
   "execution_count": null,
   "metadata": {},
   "outputs": [],
   "source": [
    "newdata[\"label\"] = pd.cut(newdata[\"upvotes\"], bins=[-np.inf, 0., 3, 9, np.inf], labels=[0, 1, 2, 3])\n",
    "newdata[\"text\"] = newdata[\"comment_body\"]\n",
    "cols = [\"label\", \"text\"]\n",
    "newdata = newdata[cols]"
   ]
  },
  {
   "cell_type": "code",
   "execution_count": 30,
   "metadata": {},
   "outputs": [],
   "source": [
    "from collections import Counter\n",
    "from nltk.tokenize import word_tokenize\n",
    "from nltk.corpus import stopwords\n",
    "import re\n",
    "\n",
    "#import nltk\n",
    "#nltk.download('stopwords')\n",
    "stop_words = set(stopwords.words('english'))\n",
    "#nltk.download('punkt')\n",
    "\n",
    "def mostcommon(given):\n",
    "    giventext = \" \".join(list(given['text']))\n",
    "    #giventext = giventext.lower().split()\n",
    "    tokens = word_tokenize(giventext)\n",
    "    tokens = [x.lower() for x in tokens if x.lower() not in stop_words]\n",
    "    tokens = [re.sub('[\\.,?!/()&]', '', x) for x in tokens]\n",
    "    tokens = [x for x in tokens if x != '']\n",
    "    #Return top 10 words\n",
    "    return Counter(tokens).most_common()[:10]"
   ]
  },
  {
   "cell_type": "code",
   "execution_count": 31,
   "metadata": {},
   "outputs": [
    {
     "name": "stdout",
     "output_type": "stream",
     "text": [
      "[(\"'s\", 8416), (\"n't\", 5565), ('like', 5060), ('movie', 4442), ('would', 3139), ('batman', 2957), ('one', 2574), ('think', 2506), ('``', 2298), (\"''\", 2252)]\n",
      "[(\"'s\", 7416), (\"n't\", 5352), ('like', 4530), ('movie', 3917), ('would', 2860), ('batman', 2716), ('think', 2362), ('one', 2217), ('people', 2015), ('superman', 1969)]\n",
      "[(\"'s\", 15092), (\"n't\", 11908), ('like', 9654), ('movie', 8367), ('would', 6116), ('batman', 5864), ('think', 5103), ('one', 4706), ('good', 4177), ('see', 4172)]\n",
      "[(\"'s\", 4225), (\"n't\", 3787), ('like', 2856), ('movie', 2685), ('batman', 1714), ('would', 1503), ('people', 1411), ('one', 1269), ('good', 1232), ('think', 1221)]\n"
     ]
    }
   ],
   "source": [
    "best = newdata[newdata.label == 3]\n",
    "good = newdata[newdata.label == 2]\n",
    "normal = newdata[newdata.label == 1]\n",
    "poor = newdata[newdata.label == 0]\n",
    "\n",
    "print(mostcommon(best))\n",
    "print(mostcommon(good))\n",
    "print(mostcommon(normal))\n",
    "print(mostcommon(poor))"
   ]
  },
  {
   "cell_type": "code",
   "execution_count": null,
   "metadata": {},
   "outputs": [],
   "source": [
    "newdata = newdata.sample(frac=1).reset_index(drop=True)\n",
    "splitby = int(0.8*len(newdata))\n",
    "train_data = newdata[:splitby]\n",
    "test_data = newdata[splitby:]\n",
    "train_data = train_data.dropna()\n",
    "test_data = test_data.dropna()\n",
    "train_data"
   ]
  },
  {
   "cell_type": "code",
   "execution_count": null,
   "metadata": {},
   "outputs": [],
   "source": [
    "train_data.to_csv(\"train.csv\", index=False, columns=[\"label\", \"text\"])\n",
    "test_data.to_csv(\"test.csv\", index=False, columns=[\"label\", \"text\"])"
   ]
  }
 ],
 "metadata": {
  "kernelspec": {
   "display_name": "Python 3",
   "language": "python",
   "name": "python3"
  },
  "language_info": {
   "codemirror_mode": {
    "name": "ipython",
    "version": 3
   },
   "file_extension": ".py",
   "mimetype": "text/x-python",
   "name": "python",
   "nbconvert_exporter": "python",
   "pygments_lexer": "ipython3",
   "version": "3.7.4"
  }
 },
 "nbformat": 4,
 "nbformat_minor": 2
}
