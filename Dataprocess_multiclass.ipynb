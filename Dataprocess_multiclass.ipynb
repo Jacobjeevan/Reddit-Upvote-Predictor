{
 "cells": [
  {
   "cell_type": "code",
   "execution_count": 1,
   "metadata": {},
   "outputs": [],
   "source": [
    "import pandas as pd\n",
    "import numpy as np\n",
    "import matplotlib.pyplot as plt\n",
    "\n",
    "%matplotlib inline"
   ]
  },
  {
   "cell_type": "code",
   "execution_count": 2,
   "metadata": {},
   "outputs": [
    {
     "data": {
      "text/html": [
       "<div>\n",
       "<style scoped>\n",
       "    .dataframe tbody tr th:only-of-type {\n",
       "        vertical-align: middle;\n",
       "    }\n",
       "\n",
       "    .dataframe tbody tr th {\n",
       "        vertical-align: top;\n",
       "    }\n",
       "\n",
       "    .dataframe thead th {\n",
       "        text-align: right;\n",
       "    }\n",
       "</style>\n",
       "<table border=\"1\" class=\"dataframe\">\n",
       "  <thead>\n",
       "    <tr style=\"text-align: right;\">\n",
       "      <th></th>\n",
       "      <th>upvotes</th>\n",
       "    </tr>\n",
       "  </thead>\n",
       "  <tbody>\n",
       "    <tr>\n",
       "      <th>count</th>\n",
       "      <td>186277.000000</td>\n",
       "    </tr>\n",
       "    <tr>\n",
       "      <th>mean</th>\n",
       "      <td>30.910424</td>\n",
       "    </tr>\n",
       "    <tr>\n",
       "      <th>std</th>\n",
       "      <td>298.558384</td>\n",
       "    </tr>\n",
       "    <tr>\n",
       "      <th>min</th>\n",
       "      <td>-482.000000</td>\n",
       "    </tr>\n",
       "    <tr>\n",
       "      <th>25%</th>\n",
       "      <td>1.000000</td>\n",
       "    </tr>\n",
       "    <tr>\n",
       "      <th>50%</th>\n",
       "      <td>2.000000</td>\n",
       "    </tr>\n",
       "    <tr>\n",
       "      <th>75%</th>\n",
       "      <td>5.000000</td>\n",
       "    </tr>\n",
       "    <tr>\n",
       "      <th>max</th>\n",
       "      <td>32442.000000</td>\n",
       "    </tr>\n",
       "  </tbody>\n",
       "</table>\n",
       "</div>"
      ],
      "text/plain": [
       "             upvotes\n",
       "count  186277.000000\n",
       "mean       30.910424\n",
       "std       298.558384\n",
       "min      -482.000000\n",
       "25%         1.000000\n",
       "50%         2.000000\n",
       "75%         5.000000\n",
       "max     32442.000000"
      ]
     },
     "execution_count": 2,
     "metadata": {},
     "output_type": "execute_result"
    }
   ],
   "source": [
    "df = pd.read_csv('data/data.csv')\n",
    "df.describe()"
   ]
  },
  {
   "cell_type": "markdown",
   "metadata": {},
   "source": [
    "# Cleaning the text data\n",
    "\n",
    "Some of the tweets were not saved in the right format (text was divided/only fetched some of the text). Hence we remove these rows from the data."
   ]
  },
  {
   "cell_type": "code",
   "execution_count": 3,
   "metadata": {},
   "outputs": [],
   "source": [
    "def clean(df): \n",
    "    data = df.copy()\n",
    "    data['upvotes'] = pd.to_numeric(data['upvotes'], errors='coerce')\n",
    "    data.loc[:, 'comment_body'] = data['comment_body'].replace('>“¨«»®´·º½¾¿¡§£₤‘’', '').replace('\\[\\S+\\]', '', regex=True).replace('\\(\\S+\\)', '', regex=True).replace('[http]{4}\\S+', '', regex=True).replace('(\\n|\\r)+', '', regex=True)\n",
    "    data = data.loc[data['comment_body'].apply(lambda x: x != ''), :]\n",
    "    data = data.dropna()\n",
    "    return data"
   ]
  },
  {
   "cell_type": "code",
   "execution_count": 4,
   "metadata": {},
   "outputs": [
    {
     "data": {
      "text/html": [
       "<div>\n",
       "<style scoped>\n",
       "    .dataframe tbody tr th:only-of-type {\n",
       "        vertical-align: middle;\n",
       "    }\n",
       "\n",
       "    .dataframe tbody tr th {\n",
       "        vertical-align: top;\n",
       "    }\n",
       "\n",
       "    .dataframe thead th {\n",
       "        text-align: right;\n",
       "    }\n",
       "</style>\n",
       "<table border=\"1\" class=\"dataframe\">\n",
       "  <thead>\n",
       "    <tr style=\"text-align: right;\">\n",
       "      <th></th>\n",
       "      <th>comment_body</th>\n",
       "      <th>upvotes</th>\n",
       "    </tr>\n",
       "  </thead>\n",
       "  <tbody>\n",
       "    <tr>\n",
       "      <th>0</th>\n",
       "      <td>Dazzler solo movie would be a musical.It'll be...</td>\n",
       "      <td>20</td>\n",
       "    </tr>\n",
       "    <tr>\n",
       "      <th>1</th>\n",
       "      <td>X-Men had fought in Battle of New York, just l...</td>\n",
       "      <td>16</td>\n",
       "    </tr>\n",
       "    <tr>\n",
       "      <th>2</th>\n",
       "      <td>Peter Quill and Gamora will NOT end up togethe...</td>\n",
       "      <td>12</td>\n",
       "    </tr>\n",
       "    <tr>\n",
       "      <th>3</th>\n",
       "      <td>Moonstone will appear in CM2 as a psychologist...</td>\n",
       "      <td>10</td>\n",
       "    </tr>\n",
       "    <tr>\n",
       "      <th>4</th>\n",
       "      <td>The opening scene of Ant-Man 3 will be Luis as...</td>\n",
       "      <td>26</td>\n",
       "    </tr>\n",
       "  </tbody>\n",
       "</table>\n",
       "</div>"
      ],
      "text/plain": [
       "                                        comment_body  upvotes\n",
       "0  Dazzler solo movie would be a musical.It'll be...       20\n",
       "1  X-Men had fought in Battle of New York, just l...       16\n",
       "2  Peter Quill and Gamora will NOT end up togethe...       12\n",
       "3  Moonstone will appear in CM2 as a psychologist...       10\n",
       "4  The opening scene of Ant-Man 3 will be Luis as...       26"
      ]
     },
     "execution_count": 4,
     "metadata": {},
     "output_type": "execute_result"
    }
   ],
   "source": [
    "df = clean(df)\n",
    "df.head(5)"
   ]
  },
  {
   "cell_type": "markdown",
   "metadata": {},
   "source": [
    "For better performance, all comments with a length > 512 are removed. As shown below, the effect is minimal (removal of ~7k comments).\n",
    "\n",
    "Based on the summary statistics, we define four categories for upvotes, where x is the upvote count:\n",
    "\n",
    "x < 0 : Poor (label: 0)\n",
    "\n",
    "x >= 1 and x <= 3: Normal (label: 1)\n",
    "\n",
    "x >= 4 and x <=9: Good (label: 2)\n",
    "\n",
    "x >= 10: Best (label: 3)\n"
   ]
  },
  {
   "cell_type": "code",
   "execution_count": 5,
   "metadata": {},
   "outputs": [
    {
     "data": {
      "image/png": "[encoded data removed]",
      "text/plain": [
       "<Figure size 432x288 with 1 Axes>"
      ]
     },
     "metadata": {
      "needs_background": "light"
     },
     "output_type": "display_data"
    }
   ],
   "source": [
    "data = df.copy()\n",
    "labels = ['poor', 'normal', 'good', 'best']\n",
    "data[\"label\"] = pd.cut(data[\"upvotes\"], bins=[-np.inf, 0., 3, 9, np.inf], labels=labels)\n",
    "plt.hist(data[\"label\"].values.tolist())\n",
    "data = data.loc[data['comment_body'].apply(lambda x: len(x) <= 512), :]\n",
    "plt.hist(data[\"label\"].values.tolist())\n",
    "plt.show()"
   ]
  },
  {
   "cell_type": "markdown",
   "metadata": {},
   "source": [
    "# Preprocessing\n",
    "\n",
    "Further preprocessing and getting the one hot encodings"
   ]
  },
  {
   "cell_type": "code",
   "execution_count": 6,
   "metadata": {},
   "outputs": [],
   "source": [
    "def preprocess(df, labels, size, charlimit): #Use size parameter to get smaller version of the dataset \n",
    "    # and char limit for filtering out text exceeding the limit\n",
    "    data = df.copy()\n",
    "    data = clean(data)\n",
    "    data = data.loc[data['comment_body'].apply(lambda x: len(x) <= charlimit), :]\n",
    "    data[\"label\"] = pd.cut(data[\"upvotes\"], bins=[-np.inf, 0., 3, 9, np.inf], labels=labels)\n",
    "    data[\"text\"] = data['comment_body']\n",
    "    label_cols = pd.get_dummies(data[\"label\"])\n",
    "    data = data.drop(columns=['label', 'comment_body', 'upvotes'])\n",
    "    data = pd.concat([data, label_cols], axis=1)\n",
    "    return data.reset_index(drop=True)"
   ]
  },
  {
   "cell_type": "code",
   "execution_count": 7,
   "metadata": {
    "scrolled": true
   },
   "outputs": [
    {
     "data": {
      "text/html": [
       "<div>\n",
       "<style scoped>\n",
       "    .dataframe tbody tr th:only-of-type {\n",
       "        vertical-align: middle;\n",
       "    }\n",
       "\n",
       "    .dataframe tbody tr th {\n",
       "        vertical-align: top;\n",
       "    }\n",
       "\n",
       "    .dataframe thead th {\n",
       "        text-align: right;\n",
       "    }\n",
       "</style>\n",
       "<table border=\"1\" class=\"dataframe\">\n",
       "  <thead>\n",
       "    <tr style=\"text-align: right;\">\n",
       "      <th></th>\n",
       "      <th>text</th>\n",
       "      <th>__label__poor</th>\n",
       "      <th>__label__normal</th>\n",
       "      <th>__label__good</th>\n",
       "      <th>__label__best</th>\n",
       "    </tr>\n",
       "  </thead>\n",
       "  <tbody>\n",
       "    <tr>\n",
       "      <th>0</th>\n",
       "      <td>Peter Quill and Gamora will NOT end up togethe...</td>\n",
       "      <td>0</td>\n",
       "      <td>0</td>\n",
       "      <td>0</td>\n",
       "      <td>1</td>\n",
       "    </tr>\n",
       "    <tr>\n",
       "      <th>1</th>\n",
       "      <td>The opening scene of Ant-Man 3 will be Luis as...</td>\n",
       "      <td>0</td>\n",
       "      <td>0</td>\n",
       "      <td>0</td>\n",
       "      <td>1</td>\n",
       "    </tr>\n",
       "    <tr>\n",
       "      <th>2</th>\n",
       "      <td>Latveria (but not Dr. Doom yet) will be introd...</td>\n",
       "      <td>0</td>\n",
       "      <td>0</td>\n",
       "      <td>1</td>\n",
       "      <td>0</td>\n",
       "    </tr>\n",
       "    <tr>\n",
       "      <th>3</th>\n",
       "      <td>Gamma radiation will create mutantsWe know tha...</td>\n",
       "      <td>0</td>\n",
       "      <td>1</td>\n",
       "      <td>0</td>\n",
       "      <td>0</td>\n",
       "    </tr>\n",
       "    <tr>\n",
       "      <th>4</th>\n",
       "      <td>Kathryn Hahn is almost certainly Agatha Harkne...</td>\n",
       "      <td>0</td>\n",
       "      <td>1</td>\n",
       "      <td>0</td>\n",
       "      <td>0</td>\n",
       "    </tr>\n",
       "    <tr>\n",
       "      <th>5</th>\n",
       "      <td>Plus, it's not like it has to be cheesy or bor...</td>\n",
       "      <td>0</td>\n",
       "      <td>0</td>\n",
       "      <td>1</td>\n",
       "      <td>0</td>\n",
       "    </tr>\n",
       "    <tr>\n",
       "      <th>6</th>\n",
       "      <td>Yes please. Remember how awesome the musical n...</td>\n",
       "      <td>0</td>\n",
       "      <td>1</td>\n",
       "      <td>0</td>\n",
       "      <td>0</td>\n",
       "    </tr>\n",
       "    <tr>\n",
       "      <th>7</th>\n",
       "      <td>Honestly I would adore an mcu musical!</td>\n",
       "      <td>0</td>\n",
       "      <td>1</td>\n",
       "      <td>0</td>\n",
       "      <td>0</td>\n",
       "    </tr>\n",
       "    <tr>\n",
       "      <th>8</th>\n",
       "      <td>Meh. \"Villain has the same powers as the hero ...</td>\n",
       "      <td>0</td>\n",
       "      <td>1</td>\n",
       "      <td>0</td>\n",
       "      <td>0</td>\n",
       "    </tr>\n",
       "    <tr>\n",
       "      <th>9</th>\n",
       "      <td>This is brilliant! I'd love to see Scott do th...</td>\n",
       "      <td>0</td>\n",
       "      <td>0</td>\n",
       "      <td>0</td>\n",
       "      <td>1</td>\n",
       "    </tr>\n",
       "  </tbody>\n",
       "</table>\n",
       "</div>"
      ],
      "text/plain": [
       "                                                text  __label__poor  \\\n",
       "0  Peter Quill and Gamora will NOT end up togethe...              0   \n",
       "1  The opening scene of Ant-Man 3 will be Luis as...              0   \n",
       "2  Latveria (but not Dr. Doom yet) will be introd...              0   \n",
       "3  Gamma radiation will create mutantsWe know tha...              0   \n",
       "4  Kathryn Hahn is almost certainly Agatha Harkne...              0   \n",
       "5  Plus, it's not like it has to be cheesy or bor...              0   \n",
       "6  Yes please. Remember how awesome the musical n...              0   \n",
       "7             Honestly I would adore an mcu musical!              0   \n",
       "8  Meh. \"Villain has the same powers as the hero ...              0   \n",
       "9  This is brilliant! I'd love to see Scott do th...              0   \n",
       "\n",
       "   __label__normal  __label__good  __label__best  \n",
       "0                0              0              1  \n",
       "1                0              0              1  \n",
       "2                0              1              0  \n",
       "3                1              0              0  \n",
       "4                1              0              0  \n",
       "5                0              1              0  \n",
       "6                1              0              0  \n",
       "7                1              0              0  \n",
       "8                1              0              0  \n",
       "9                0              0              1  "
      ]
     },
     "execution_count": 7,
     "metadata": {},
     "output_type": "execute_result"
    }
   ],
   "source": [
    "fastdata = preprocess(df, ['poor', 'normal', 'good', 'best'], df.shape[0], 512)\n",
    "flairdata = preprocess(df, ['__label__poor', '__label__normal', '__label__good', '__label__best'], df.shape[0], 512)\n",
    "flairdata.head(10)"
   ]
  },
  {
   "cell_type": "code",
   "execution_count": 8,
   "metadata": {},
   "outputs": [],
   "source": [
    "def savedata(data, trainpath, testpath, flag):\n",
    "    #data = data.reset_index(drop=True)\n",
    "    splitby = int(0.8*len(data))\n",
    "    train_data = data[:splitby]\n",
    "    if flag:\n",
    "        splitby1 = int(0.9*len(data))\n",
    "        test_data = data[splitby:splitby1]\n",
    "        val_data = data[splitby1:]\n",
    "        val_data = val_data.dropna().reset_index(drop=True)\n",
    "        val_data.to_csv(\"flairdata/val.csv\", index=False)\n",
    "    else:\n",
    "        test_data = data[splitby:]\n",
    "    train_data = train_data.dropna().reset_index(drop=True)\n",
    "    test_data = test_data.dropna().reset_index(drop=True)\n",
    "    train_data.to_csv(trainpath, index=False)\n",
    "    test_data.to_csv(testpath, index=False)"
   ]
  },
  {
   "cell_type": "code",
   "execution_count": 9,
   "metadata": {},
   "outputs": [],
   "source": [
    "savedata(fastdata, \"fastdata/train.csv\", \"fastdata/test.csv\", 0)\n",
    "savedata(flairdata, \"flairdata/train.csv\", \"flairdata/test.csv\", 1)"
   ]
  },
  {
   "cell_type": "markdown",
   "metadata": {},
   "source": [
    "# EDA\n",
    "\n",
    "Using nltk's word tokenizer and collections libraries to tokenize and observe the most common words in each 'category'"
   ]
  },
  {
   "cell_type": "code",
   "execution_count": 10,
   "metadata": {},
   "outputs": [],
   "source": [
    "from collections import Counter\n",
    "from nltk.tokenize import word_tokenize\n",
    "from nltk.corpus import stopwords\n",
    "import re\n",
    "\n",
    "#import nltk\n",
    "#nltk.download('stopwords')\n",
    "stop_words = set(stopwords.words('english'))\n",
    "#nltk.download('punkt')\n",
    "\n",
    "def mostcommon(given):\n",
    "    giventext = \" \".join(list(given))\n",
    "    tokens = word_tokenize(giventext)\n",
    "    tokens = [x.lower() for x in tokens if x.lower() not in stop_words]\n",
    "    tokens = [re.sub('[\\:\\’\\.,?!/()&]', '', x) for x in tokens]\n",
    "    tokens = [x for x in tokens if x != '']\n",
    "    #Return top 10 words\n",
    "    return Counter(tokens).most_common()[:10]"
   ]
  },
  {
   "cell_type": "code",
   "execution_count": 11,
   "metadata": {},
   "outputs": [
    {
     "name": "stdout",
     "output_type": "stream",
     "text": [
      "\n",
      "poor\n",
      "\n",
      "[(\"n't\", 2701), (\"'s\", 2575), ('like', 1850), ('movie', 1329), ('marvel', 1162), ('people', 1144), ('would', 1017), ('one', 992), ('think', 858), ('movies', 841)]\n",
      "\n",
      "normal\n",
      "\n",
      "[(\"'s\", 17764), (\"n't\", 13951), ('like', 11918), ('would', 9573), ('movie', 8186), ('one', 7807), ('marvel', 7106), ('mcu', 6637), ('see', 6450), ('think', 6169)]\n",
      "\n",
      "good\n",
      "\n",
      "[(\"'s\", 5214), (\"n't\", 4039), ('like', 3098), ('would', 2497), ('movie', 2017), ('one', 1893), ('think', 1765), ('``', 1628), (\"''\", 1543), ('marvel', 1541)]\n",
      "\n",
      "best\n",
      "\n",
      "[(\"'s\", 6243), (\"n't\", 4156), ('like', 3444), ('would', 2794), ('``', 2304), ('one', 2270), (\"''\", 2114), ('movie', 2057), ('think', 1909), ('see', 1638)]\n"
     ]
    }
   ],
   "source": [
    "for i, j in enumerate(labels):\n",
    "    print()\n",
    "    print(j)\n",
    "    print()\n",
    "    print(mostcommon(data.loc[data['label'].apply(lambda x: x == j), 'comment_body']))"
   ]
  }
 ],
 "metadata": {
  "kernelspec": {
   "display_name": "Python 3",
   "language": "python",
   "name": "python3"
  },
  "language_info": {
   "codemirror_mode": {
    "name": "ipython",
    "version": 3
   },
   "file_extension": ".py",
   "mimetype": "text/x-python",
   "name": "python",
   "nbconvert_exporter": "python",
   "pygments_lexer": "ipython3",
   "version": "3.7.6"
  }
 },
 "nbformat": 4,
 "nbformat_minor": 2
}
